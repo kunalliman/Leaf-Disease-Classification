{
 "cells": [
  {
   "cell_type": "markdown",
   "metadata": {},
   "source": [
    "# Leaf Disease Classification"
   ]
  },
  {
   "cell_type": "markdown",
   "metadata": {},
   "source": [
    "### Import all the Dependencies"
   ]
  },
  {
   "cell_type": "code",
   "execution_count": 5,
   "metadata": {},
   "outputs": [],
   "source": [
    "import os\n",
    "import shutil\n",
    "import splitfolders"
   ]
  },
  {
   "cell_type": "markdown",
   "metadata": {},
   "source": [
    "### Download Dataset named PlantVillage from:\n",
    "Dataset credits: https://www.kaggle.com/arjuntejaswi/plant-village"
   ]
  },
  {
   "cell_type": "markdown",
   "metadata": {},
   "source": [
    "### Segregating all the folders into their respective Plant Category folder in Leaf_Data directory"
   ]
  },
  {
   "cell_type": "code",
   "execution_count": 6,
   "metadata": {},
   "outputs": [
    {
     "data": {
      "text/plain": [
       "['Pepper__bell___Bacterial_spot',\n",
       " 'Pepper__bell___healthy',\n",
       " 'Potato___Early_blight',\n",
       " 'Potato___healthy',\n",
       " 'Potato___Late_blight',\n",
       " 'Tomato_Bacterial_spot',\n",
       " 'Tomato_Early_blight',\n",
       " 'Tomato_healthy',\n",
       " 'Tomato_Late_blight',\n",
       " 'Tomato_Leaf_Mold',\n",
       " 'Tomato_Septoria_leaf_spot',\n",
       " 'Tomato_Spider_mites_Two_spotted_spider_mite',\n",
       " 'Tomato__Target_Spot',\n",
       " 'Tomato__Tomato_mosaic_virus',\n",
       " 'Tomato__Tomato_YellowLeaf__Curl_Virus']"
      ]
     },
     "execution_count": 6,
     "metadata": {},
     "output_type": "execute_result"
    }
   ],
   "source": [
    "os.listdir(r\"PlantVillage\")"
   ]
  },
  {
   "cell_type": "code",
   "execution_count": 11,
   "metadata": {},
   "outputs": [],
   "source": [
    "# List of folder names from downloaded data\n",
    "folders = os.listdir('PlantVillage')\n",
    "\n",
    "# Create directories for categories in PlantVillage\n",
    "leaf_categories = ['Pepper', 'Potato', 'Tomato']\n",
    "\n",
    "if not os.path.exists('Leaf_Data'):  # Create a directory to sort data according to Leaf Categories\n",
    "    os.makedirs('Leaf_Data')\n",
    "    \n",
    "for category in leaf_categories:\n",
    "    category_folder_path = os.path.join('Leaf_Data', category)\n",
    "    if not os.path.exists(category_folder_path):\n",
    "        os.makedirs(category_folder_path)\n",
    "\n",
    "# Organize folders into respective categories\n",
    "for folder in folders:\n",
    "    plant_name = folder.split('_')[0]  # Extract the plant name from folder name\n",
    "    for category in leaf_categories:\n",
    "        if category.lower() in plant_name.lower():\n",
    "            source = os.path.join('PlantVillage', folder)\n",
    "            destination = os.path.join('Leaf_Data', category, folder)\n",
    "            shutil.move(source, destination)\n"
   ]
  },
  {
   "cell_type": "code",
   "execution_count": 7,
   "metadata": {},
   "outputs": [
    {
     "data": {
      "text/plain": [
       "['Pepper', 'Potato', 'Tomato']"
      ]
     },
     "execution_count": 7,
     "metadata": {},
     "output_type": "execute_result"
    }
   ],
   "source": [
    "os.listdir(r\"Leaf_Data\")"
   ]
  },
  {
   "cell_type": "code",
   "execution_count": 9,
   "metadata": {},
   "outputs": [
    {
     "data": {
      "text/plain": [
       "['test', 'train', 'val']"
      ]
     },
     "execution_count": 9,
     "metadata": {},
     "output_type": "execute_result"
    }
   ],
   "source": [
    "os.listdir(r\"DataSets/Pepper\")"
   ]
  },
  {
   "cell_type": "markdown",
   "metadata": {},
   "source": [
    "### Using splitfolders Function to Split Dataset into \n",
    "\n",
    "1. Training: Dataset to be used while training\n",
    "2. Validation: Dataset to be tested against while training\n",
    "3. Test: Dataset to be tested against after we trained a model"
   ]
  },
  {
   "cell_type": "code",
   "execution_count": 12,
   "metadata": {},
   "outputs": [],
   "source": [
    "# Renaming the old PlantVillage folder to DataSet which has all the data categorized according leaf \n",
    "# And split into train, test and val (validation)\n",
    "os.rename('PlantVillage', 'DataSets')"
   ]
  },
  {
   "cell_type": "markdown",
   "metadata": {},
   "source": [
    "### Split the each category folder from Leaf_Data directory into three folders train, test, val in DataSets directory"
   ]
  },
  {
   "cell_type": "code",
   "execution_count": 13,
   "metadata": {},
   "outputs": [
    {
     "name": "stderr",
     "output_type": "stream",
     "text": [
      "Copying files: 2475 files [00:03, 791.20 files/s]\n",
      "Copying files: 2152 files [00:02, 767.81 files/s]\n",
      "Copying files: 16012 files [00:17, 896.97 files/s] \n"
     ]
    }
   ],
   "source": [
    "# Path to the PlantVillage folder containing Pepper, Potato, and Tomato folders\n",
    "\n",
    "input_folder = 'Leaf_Data/'\n",
    "\n",
    "# Output folder where the split data will be saved\n",
    "output_folder = 'DataSets/'\n",
    "\n",
    "# Lets create 3 folders according to categories in PlantVillage directory where we will save train, test, val data        \n",
    "        \n",
    "# Splitting the Pepper folder into train, test, and validation sets\n",
    "splitfolders.ratio(input_folder + 'Pepper', output=output_folder + 'Pepper', seed=42, ratio=(.7, .15, .15))\n",
    "\n",
    "# Splitting the Potato folder into train, test, and validation sets\n",
    "splitfolders.ratio(input_folder + 'Potato', output=output_folder + 'Potato', seed=42, ratio=(.7, .15, .15))\n",
    "\n",
    "# Splitting the Tomato folder into train, test, and validation sets\n",
    "splitfolders.ratio(input_folder + 'Tomato', output=output_folder + 'Tomato', seed=42, ratio=(.7, .15, .15))"
   ]
  },
  {
   "cell_type": "code",
   "execution_count": null,
   "metadata": {},
   "outputs": [],
   "source": []
  }
 ],
 "metadata": {
  "kernelspec": {
   "display_name": "Python 3 (ipykernel)",
   "language": "python",
   "name": "python3"
  },
  "language_info": {
   "codemirror_mode": {
    "name": "ipython",
    "version": 3
   },
   "file_extension": ".py",
   "mimetype": "text/x-python",
   "name": "python",
   "nbconvert_exporter": "python",
   "pygments_lexer": "ipython3",
   "version": "3.11.5"
  }
 },
 "nbformat": 4,
 "nbformat_minor": 4
}
